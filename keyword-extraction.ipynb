{
 "cells": [
  {
   "cell_type": "code",
   "execution_count": 5,
   "metadata": {},
   "outputs": [],
   "source": [
    "from jieba.analyse import *"
   ]
  },
  {
   "cell_type": "code",
   "execution_count": 6,
   "metadata": {},
   "outputs": [],
   "source": [
    "with open('sample-2.txt') as f:\n",
    "    data = f.read()"
   ]
  },
  {
   "cell_type": "code",
   "execution_count": 7,
   "metadata": {},
   "outputs": [
    {
     "name": "stdout",
     "output_type": "stream",
     "text": [
      "BBC 0.155640070745\n",
      "新疆 0.108949574804\n",
      "你们 0.0764581304782\n",
      "穆斯林 0.0601669853538\n",
      "恐怖分子 0.0513975307418\n",
      "中国 0.0410632243212\n",
      "教育 0.0406965124645\n",
      "bbc 0.0398683925061\n",
      "他们 0.037146017206\n",
      "西方 0.0348264735857\n",
      "中國 0.0339264686229\n",
      "英国 0.0338476068242\n",
      "我们 0.0317001503087\n",
      "人权 0.0308111908088\n",
      "国家 0.0289273829063\n",
      "China 0.0285595696317\n",
      "支持 0.0256415641555\n",
      "他們 0.0228093207126\n",
      "中共 0.022337008914\n",
      "维族 0.022309480703\n"
     ]
    }
   ],
   "source": [
    "for keyword, weight in extract_tags(data, withWeight=True):\n",
    "    print('%s %s' % (keyword, weight))"
   ]
  },
  {
   "cell_type": "code",
   "execution_count": 8,
   "metadata": {},
   "outputs": [
    {
     "name": "stdout",
     "output_type": "stream",
     "text": [
      "新疆 1.0\n",
      "中国 0.809594972507\n",
      "教育 0.418759199568\n",
      "国家 0.413074774973\n",
      "英国 0.340257184183\n",
      "支持 0.291861186864\n",
      "恐怖分子 0.274947035859\n",
      "政府 0.261325093325\n",
      "美国 0.247207316663\n",
      "中國 0.244315787136\n",
      "人权 0.206230766578\n",
      "独立 0.196497433616\n",
      "宗教 0.192132661871\n",
      "媒体 0.168661536224\n",
      "民族 0.168496460851\n",
      "民主 0.158228412438\n",
      "生活 0.156409061546\n",
      "希望 0.151361541701\n",
      "报道 0.14097055068\n",
      "世界 0.139500790391\n"
     ]
    }
   ],
   "source": [
    "for keyword, weight in textrank(data, withWeight=True):\n",
    "    print('%s %s' % (keyword, weight))"
   ]
  },
  {
   "cell_type": "code",
   "execution_count": null,
   "metadata": {},
   "outputs": [],
   "source": []
  }
 ],
 "metadata": {
  "kernelspec": {
   "display_name": "Python 3",
   "language": "python",
   "name": "python3"
  },
  "language_info": {
   "codemirror_mode": {
    "name": "ipython",
    "version": 3
   },
   "file_extension": ".py",
   "mimetype": "text/x-python",
   "name": "python",
   "nbconvert_exporter": "python",
   "pygments_lexer": "ipython3",
   "version": "3.7.3"
  }
 },
 "nbformat": 4,
 "nbformat_minor": 1
}
