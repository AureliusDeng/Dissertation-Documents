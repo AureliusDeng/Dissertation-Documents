{
 "cells": [
  {
   "cell_type": "code",
   "execution_count": 1,
   "metadata": {},
   "outputs": [
    {
     "data": {
      "text/html": [
       "<div>\n",
       "<style scoped>\n",
       "    .dataframe tbody tr th:only-of-type {\n",
       "        vertical-align: middle;\n",
       "    }\n",
       "\n",
       "    .dataframe tbody tr th {\n",
       "        vertical-align: top;\n",
       "    }\n",
       "\n",
       "    .dataframe thead th {\n",
       "        text-align: right;\n",
       "    }\n",
       "</style>\n",
       "<table border=\"1\" class=\"dataframe\">\n",
       "  <thead>\n",
       "    <tr style=\"text-align: right;\">\n",
       "      <th></th>\n",
       "      <th>Content</th>\n",
       "    </tr>\n",
       "  </thead>\n",
       "  <tbody>\n",
       "    <tr>\n",
       "      <th>0</th>\n",
       "      <td>卫健委：中国至少有1541名无症状感染者\\n —— 近期针对中国疫情数字存在着不少质疑，其中...</td>\n",
       "    </tr>\n",
       "    <tr>\n",
       "      <th>1</th>\n",
       "      <td>来自中国的数字值得怀疑\\n —— 近日，中国公布的新冠病毒新增感染人数之低超乎寻常，难免令人...</td>\n",
       "    </tr>\n",
       "    <tr>\n",
       "      <th>2</th>\n",
       "      <td>湖北逐步解封 官方盼他省勿存芥蒂\\n —— 中国重点疫区湖北解封。许多当地民众闷了两个月终于...</td>\n",
       "    </tr>\n",
       "    <tr>\n",
       "      <th>3</th>\n",
       "      <td>武汉「解封」在即 当地居民质疑官方数字\\n —— 经历了长达两个月的封城后，武汉终于在近日渐...</td>\n",
       "    </tr>\n",
       "    <tr>\n",
       "      <th>4</th>\n",
       "      <td>墙外文摘：天下大乱，对中国正是形势大好？\\n —— 有评论认为，中国正在借新冠病毒危机下一盘...</td>\n",
       "    </tr>\n",
       "  </tbody>\n",
       "</table>\n",
       "</div>"
      ],
      "text/plain": [
       "                                             Content\n",
       "0  卫健委：中国至少有1541名无症状感染者\\n —— 近期针对中国疫情数字存在着不少质疑，其中...\n",
       "1  来自中国的数字值得怀疑\\n —— 近日，中国公布的新冠病毒新增感染人数之低超乎寻常，难免令人...\n",
       "2  湖北逐步解封 官方盼他省勿存芥蒂\\n —— 中国重点疫区湖北解封。许多当地民众闷了两个月终于...\n",
       "3  武汉「解封」在即 当地居民质疑官方数字\\n —— 经历了长达两个月的封城后，武汉终于在近日渐...\n",
       "4  墙外文摘：天下大乱，对中国正是形势大好？\\n —— 有评论认为，中国正在借新冠病毒危机下一盘..."
      ]
     },
     "execution_count": 1,
     "metadata": {},
     "output_type": "execute_result"
    }
   ],
   "source": [
    "import pandas as pd\n",
    "df = pd.read_excel(\"sentiment_analysis.xlsx\")\n",
    "df.head()"
   ]
  },
  {
   "cell_type": "code",
   "execution_count": 2,
   "metadata": {},
   "outputs": [],
   "source": [
    "text = df.Content.iloc[0]"
   ]
  },
  {
   "cell_type": "code",
   "execution_count": 3,
   "metadata": {},
   "outputs": [],
   "source": [
    "from deep_translator import GoogleTranslator\n",
    "translated = GoogleTranslator(source='auto', target='en').translate(text)"
   ]
  },
  {
   "cell_type": "code",
   "execution_count": 4,
   "metadata": {},
   "outputs": [
    {
     "name": "stdout",
     "output_type": "stream",
     "text": [
      "Health Commission: There are at least 1541 asymptomatic infections in China\n",
      " —— There have been many doubts about the number of the epidemic in China recently. Among them, the fact that the statistics of asymptomatic infections are not released is particularly controversial. Now, Chinese officials have announced that the number of asymptomatic infections will be released daily in the future. Many experts worry that if prevention and control are not effective, asymptomatic infections will cause a serious rebound of the epidemic.\n"
     ]
    }
   ],
   "source": [
    "print (translated)"
   ]
  },
  {
   "cell_type": "code",
   "execution_count": 5,
   "metadata": {},
   "outputs": [
    {
     "name": "stderr",
     "output_type": "stream",
     "text": [
      "D:\\Anaconda3\\lib\\site-packages\\sklearn\\feature_extraction\\image.py:167: DeprecationWarning: `np.int` is a deprecated alias for the builtin `int`. To silence this warning, use `int` by itself. Doing this will not modify any behavior and is safe. When replacing `np.int`, you may wish to use e.g. `np.int64` or `np.int32` to specify the precision. If you wish to review your current use, check the release note link for additional information.\n",
      "Deprecated in NumPy 1.20; for more details and guidance: https://numpy.org/devdocs/release/1.20.0-notes.html#deprecations\n",
      "  dtype=np.int):\n",
      "D:\\Anaconda3\\lib\\site-packages\\sklearn\\linear_model\\least_angle.py:35: DeprecationWarning: `np.float` is a deprecated alias for the builtin `float`. To silence this warning, use `float` by itself. Doing this will not modify any behavior and is safe. If you specifically wanted the numpy scalar type, use `np.float64` here.\n",
      "Deprecated in NumPy 1.20; for more details and guidance: https://numpy.org/devdocs/release/1.20.0-notes.html#deprecations\n",
      "  eps=np.finfo(np.float).eps,\n",
      "D:\\Anaconda3\\lib\\site-packages\\sklearn\\linear_model\\least_angle.py:597: DeprecationWarning: `np.float` is a deprecated alias for the builtin `float`. To silence this warning, use `float` by itself. Doing this will not modify any behavior and is safe. If you specifically wanted the numpy scalar type, use `np.float64` here.\n",
      "Deprecated in NumPy 1.20; for more details and guidance: https://numpy.org/devdocs/release/1.20.0-notes.html#deprecations\n",
      "  eps=np.finfo(np.float).eps, copy_X=True, fit_path=True,\n",
      "D:\\Anaconda3\\lib\\site-packages\\sklearn\\linear_model\\least_angle.py:836: DeprecationWarning: `np.float` is a deprecated alias for the builtin `float`. To silence this warning, use `float` by itself. Doing this will not modify any behavior and is safe. If you specifically wanted the numpy scalar type, use `np.float64` here.\n",
      "Deprecated in NumPy 1.20; for more details and guidance: https://numpy.org/devdocs/release/1.20.0-notes.html#deprecations\n",
      "  eps=np.finfo(np.float).eps, copy_X=True, fit_path=True,\n",
      "D:\\Anaconda3\\lib\\site-packages\\sklearn\\linear_model\\least_angle.py:862: DeprecationWarning: `np.float` is a deprecated alias for the builtin `float`. To silence this warning, use `float` by itself. Doing this will not modify any behavior and is safe. If you specifically wanted the numpy scalar type, use `np.float64` here.\n",
      "Deprecated in NumPy 1.20; for more details and guidance: https://numpy.org/devdocs/release/1.20.0-notes.html#deprecations\n",
      "  eps=np.finfo(np.float).eps, positive=False):\n",
      "D:\\Anaconda3\\lib\\site-packages\\sklearn\\linear_model\\least_angle.py:1097: DeprecationWarning: `np.float` is a deprecated alias for the builtin `float`. To silence this warning, use `float` by itself. Doing this will not modify any behavior and is safe. If you specifically wanted the numpy scalar type, use `np.float64` here.\n",
      "Deprecated in NumPy 1.20; for more details and guidance: https://numpy.org/devdocs/release/1.20.0-notes.html#deprecations\n",
      "  max_n_alphas=1000, n_jobs=None, eps=np.finfo(np.float).eps,\n",
      "D:\\Anaconda3\\lib\\site-packages\\sklearn\\linear_model\\least_angle.py:1344: DeprecationWarning: `np.float` is a deprecated alias for the builtin `float`. To silence this warning, use `float` by itself. Doing this will not modify any behavior and is safe. If you specifically wanted the numpy scalar type, use `np.float64` here.\n",
      "Deprecated in NumPy 1.20; for more details and guidance: https://numpy.org/devdocs/release/1.20.0-notes.html#deprecations\n",
      "  max_n_alphas=1000, n_jobs=None, eps=np.finfo(np.float).eps,\n",
      "D:\\Anaconda3\\lib\\site-packages\\sklearn\\linear_model\\least_angle.py:1480: DeprecationWarning: `np.float` is a deprecated alias for the builtin `float`. To silence this warning, use `float` by itself. Doing this will not modify any behavior and is safe. If you specifically wanted the numpy scalar type, use `np.float64` here.\n",
      "Deprecated in NumPy 1.20; for more details and guidance: https://numpy.org/devdocs/release/1.20.0-notes.html#deprecations\n",
      "  eps=np.finfo(np.float).eps, copy_X=True, positive=False):\n",
      "D:\\Anaconda3\\lib\\site-packages\\sklearn\\linear_model\\randomized_l1.py:152: DeprecationWarning: `np.float` is a deprecated alias for the builtin `float`. To silence this warning, use `float` by itself. Doing this will not modify any behavior and is safe. If you specifically wanted the numpy scalar type, use `np.float64` here.\n",
      "Deprecated in NumPy 1.20; for more details and guidance: https://numpy.org/devdocs/release/1.20.0-notes.html#deprecations\n",
      "  precompute=False, eps=np.finfo(np.float).eps,\n",
      "D:\\Anaconda3\\lib\\site-packages\\sklearn\\linear_model\\randomized_l1.py:320: DeprecationWarning: `np.float` is a deprecated alias for the builtin `float`. To silence this warning, use `float` by itself. Doing this will not modify any behavior and is safe. If you specifically wanted the numpy scalar type, use `np.float64` here.\n",
      "Deprecated in NumPy 1.20; for more details and guidance: https://numpy.org/devdocs/release/1.20.0-notes.html#deprecations\n",
      "  eps=np.finfo(np.float).eps, random_state=None,\n",
      "D:\\Anaconda3\\lib\\site-packages\\sklearn\\linear_model\\randomized_l1.py:580: DeprecationWarning: `np.float` is a deprecated alias for the builtin `float`. To silence this warning, use `float` by itself. Doing this will not modify any behavior and is safe. If you specifically wanted the numpy scalar type, use `np.float64` here.\n",
      "Deprecated in NumPy 1.20; for more details and guidance: https://numpy.org/devdocs/release/1.20.0-notes.html#deprecations\n",
      "  eps=4 * np.finfo(np.float).eps, n_jobs=None,\n"
     ]
    },
    {
     "data": {
      "text/plain": [
       "TextBlob(\"Health Commission: There are at least 1541 asymptomatic infections in China\n",
       " —— There have been many doubts about the number of the epidemic in China recently. Among them, the fact that the statistics of asymptomatic infections are not released is particularly controversial. Now, Chinese officials have announced that the number of asymptomatic infections will be released daily in the future. Many experts worry that if prevention and control are not effective, asymptomatic infections will cause a serious rebound of the epidemic.\")"
      ]
     },
     "execution_count": 5,
     "metadata": {},
     "output_type": "execute_result"
    }
   ],
   "source": [
    "from textblob import TextBlob\n",
    "blob = TextBlob(translated)\n",
    "blob"
   ]
  },
  {
   "cell_type": "code",
   "execution_count": 6,
   "metadata": {},
   "outputs": [
    {
     "data": {
      "text/plain": [
       "Sentiment(polarity=0.06166666666666667, subjectivity=0.41916666666666663)"
      ]
     },
     "execution_count": 6,
     "metadata": {},
     "output_type": "execute_result"
    }
   ],
   "source": [
    "blob.sentiment"
   ]
  },
  {
   "cell_type": "code",
   "execution_count": 7,
   "metadata": {},
   "outputs": [],
   "source": [
    "def translation(text):\n",
    "    translated = GoogleTranslator(source='auto', target='en').translate(text)\n",
    "    return translated\n",
    "df[\"Translation\"] = df.Content.apply(translation)"
   ]
  },
  {
   "cell_type": "code",
   "execution_count": 8,
   "metadata": {},
   "outputs": [
    {
     "data": {
      "text/html": [
       "<div>\n",
       "<style scoped>\n",
       "    .dataframe tbody tr th:only-of-type {\n",
       "        vertical-align: middle;\n",
       "    }\n",
       "\n",
       "    .dataframe tbody tr th {\n",
       "        vertical-align: top;\n",
       "    }\n",
       "\n",
       "    .dataframe thead th {\n",
       "        text-align: right;\n",
       "    }\n",
       "</style>\n",
       "<table border=\"1\" class=\"dataframe\">\n",
       "  <thead>\n",
       "    <tr style=\"text-align: right;\">\n",
       "      <th></th>\n",
       "      <th>Content</th>\n",
       "      <th>Translation</th>\n",
       "    </tr>\n",
       "  </thead>\n",
       "  <tbody>\n",
       "    <tr>\n",
       "      <th>0</th>\n",
       "      <td>卫健委：中国至少有1541名无症状感染者\\n —— 近期针对中国疫情数字存在着不少质疑，其中...</td>\n",
       "      <td>Health Commission: There are at least 1541 asy...</td>\n",
       "    </tr>\n",
       "    <tr>\n",
       "      <th>1</th>\n",
       "      <td>来自中国的数字值得怀疑\\n —— 近日，中国公布的新冠病毒新增感染人数之低超乎寻常，难免令人...</td>\n",
       "      <td>The figures from China are questionable\\n —— T...</td>\n",
       "    </tr>\n",
       "    <tr>\n",
       "      <th>2</th>\n",
       "      <td>湖北逐步解封 官方盼他省勿存芥蒂\\n —— 中国重点疫区湖北解封。许多当地民众闷了两个月终于...</td>\n",
       "      <td>Hubei gradually unblocks the government\\n —— H...</td>\n",
       "    </tr>\n",
       "    <tr>\n",
       "      <th>3</th>\n",
       "      <td>武汉「解封」在即 当地居民质疑官方数字\\n —— 经历了长达两个月的封城后，武汉终于在近日渐...</td>\n",
       "      <td>Wuhan's \"unblocking\" is imminent, local reside...</td>\n",
       "    </tr>\n",
       "    <tr>\n",
       "      <th>4</th>\n",
       "      <td>墙外文摘：天下大乱，对中国正是形势大好？\\n —— 有评论认为，中国正在借新冠病毒危机下一盘...</td>\n",
       "      <td>Digest outside the wall: The chaos in the worl...</td>\n",
       "    </tr>\n",
       "  </tbody>\n",
       "</table>\n",
       "</div>"
      ],
      "text/plain": [
       "                                             Content  \\\n",
       "0  卫健委：中国至少有1541名无症状感染者\\n —— 近期针对中国疫情数字存在着不少质疑，其中...   \n",
       "1  来自中国的数字值得怀疑\\n —— 近日，中国公布的新冠病毒新增感染人数之低超乎寻常，难免令人...   \n",
       "2  湖北逐步解封 官方盼他省勿存芥蒂\\n —— 中国重点疫区湖北解封。许多当地民众闷了两个月终于...   \n",
       "3  武汉「解封」在即 当地居民质疑官方数字\\n —— 经历了长达两个月的封城后，武汉终于在近日渐...   \n",
       "4  墙外文摘：天下大乱，对中国正是形势大好？\\n —— 有评论认为，中国正在借新冠病毒危机下一盘...   \n",
       "\n",
       "                                         Translation  \n",
       "0  Health Commission: There are at least 1541 asy...  \n",
       "1  The figures from China are questionable\\n —— T...  \n",
       "2  Hubei gradually unblocks the government\\n —— H...  \n",
       "3  Wuhan's \"unblocking\" is imminent, local reside...  \n",
       "4  Digest outside the wall: The chaos in the worl...  "
      ]
     },
     "execution_count": 8,
     "metadata": {},
     "output_type": "execute_result"
    }
   ],
   "source": [
    "df.head()"
   ]
  },
  {
   "cell_type": "code",
   "execution_count": 9,
   "metadata": {},
   "outputs": [],
   "source": [
    "def get_sentiment_es_polarity(translated):\n",
    "    blob = TextBlob(translated)\n",
    "    return blob.sentiment.polarity\n",
    "df[\"Polarity\"] = df.Translation.apply(get_sentiment_es_polarity)"
   ]
  },
  {
   "cell_type": "code",
   "execution_count": 10,
   "metadata": {},
   "outputs": [],
   "source": [
    "def get_sentiment_en_subjectivity(translated):\n",
    "    blob = TextBlob(translated)\n",
    "    return blob.sentiment.subjectivity\n",
    "df[\"Subjectivity\"] = df.Translation.apply(get_sentiment_en_subjectivity)"
   ]
  },
  {
   "cell_type": "code",
   "execution_count": 11,
   "metadata": {},
   "outputs": [
    {
     "data": {
      "text/html": [
       "<div>\n",
       "<style scoped>\n",
       "    .dataframe tbody tr th:only-of-type {\n",
       "        vertical-align: middle;\n",
       "    }\n",
       "\n",
       "    .dataframe tbody tr th {\n",
       "        vertical-align: top;\n",
       "    }\n",
       "\n",
       "    .dataframe thead th {\n",
       "        text-align: right;\n",
       "    }\n",
       "</style>\n",
       "<table border=\"1\" class=\"dataframe\">\n",
       "  <thead>\n",
       "    <tr style=\"text-align: right;\">\n",
       "      <th></th>\n",
       "      <th>Content</th>\n",
       "      <th>Translation</th>\n",
       "      <th>Polarity</th>\n",
       "      <th>Subjectivity</th>\n",
       "    </tr>\n",
       "  </thead>\n",
       "  <tbody>\n",
       "    <tr>\n",
       "      <th>0</th>\n",
       "      <td>卫健委：中国至少有1541名无症状感染者\\n —— 近期针对中国疫情数字存在着不少质疑，其中...</td>\n",
       "      <td>Health Commission: There are at least 1541 asy...</td>\n",
       "      <td>0.061667</td>\n",
       "      <td>0.419167</td>\n",
       "    </tr>\n",
       "    <tr>\n",
       "      <th>1</th>\n",
       "      <td>来自中国的数字值得怀疑\\n —— 近日，中国公布的新冠病毒新增感染人数之低超乎寻常，难免令人...</td>\n",
       "      <td>The figures from China are questionable\\n —— T...</td>\n",
       "      <td>0.019481</td>\n",
       "      <td>0.500649</td>\n",
       "    </tr>\n",
       "    <tr>\n",
       "      <th>2</th>\n",
       "      <td>湖北逐步解封 官方盼他省勿存芥蒂\\n —— 中国重点疫区湖北解封。许多当地民众闷了两个月终于...</td>\n",
       "      <td>Hubei gradually unblocks the government\\n —— H...</td>\n",
       "      <td>0.097727</td>\n",
       "      <td>0.461364</td>\n",
       "    </tr>\n",
       "    <tr>\n",
       "      <th>3</th>\n",
       "      <td>武汉「解封」在即 当地居民质疑官方数字\\n —— 经历了长达两个月的封城后，武汉终于在近日渐...</td>\n",
       "      <td>Wuhan's \"unblocking\" is imminent, local reside...</td>\n",
       "      <td>0.028182</td>\n",
       "      <td>0.317273</td>\n",
       "    </tr>\n",
       "    <tr>\n",
       "      <th>4</th>\n",
       "      <td>墙外文摘：天下大乱，对中国正是形势大好？\\n —— 有评论认为，中国正在借新冠病毒危机下一盘...</td>\n",
       "      <td>Digest outside the wall: The chaos in the worl...</td>\n",
       "      <td>0.012121</td>\n",
       "      <td>0.190801</td>\n",
       "    </tr>\n",
       "  </tbody>\n",
       "</table>\n",
       "</div>"
      ],
      "text/plain": [
       "                                             Content  \\\n",
       "0  卫健委：中国至少有1541名无症状感染者\\n —— 近期针对中国疫情数字存在着不少质疑，其中...   \n",
       "1  来自中国的数字值得怀疑\\n —— 近日，中国公布的新冠病毒新增感染人数之低超乎寻常，难免令人...   \n",
       "2  湖北逐步解封 官方盼他省勿存芥蒂\\n —— 中国重点疫区湖北解封。许多当地民众闷了两个月终于...   \n",
       "3  武汉「解封」在即 当地居民质疑官方数字\\n —— 经历了长达两个月的封城后，武汉终于在近日渐...   \n",
       "4  墙外文摘：天下大乱，对中国正是形势大好？\\n —— 有评论认为，中国正在借新冠病毒危机下一盘...   \n",
       "\n",
       "                                         Translation  Polarity  Subjectivity  \n",
       "0  Health Commission: There are at least 1541 asy...  0.061667      0.419167  \n",
       "1  The figures from China are questionable\\n —— T...  0.019481      0.500649  \n",
       "2  Hubei gradually unblocks the government\\n —— H...  0.097727      0.461364  \n",
       "3  Wuhan's \"unblocking\" is imminent, local reside...  0.028182      0.317273  \n",
       "4  Digest outside the wall: The chaos in the worl...  0.012121      0.190801  "
      ]
     },
     "execution_count": 11,
     "metadata": {},
     "output_type": "execute_result"
    }
   ],
   "source": [
    "df.head()"
   ]
  },
  {
   "cell_type": "code",
   "execution_count": 12,
   "metadata": {},
   "outputs": [],
   "source": [
    "df.to_excel('results.xls','sheet1')"
   ]
  },
  {
   "cell_type": "code",
   "execution_count": null,
   "metadata": {},
   "outputs": [],
   "source": []
  }
 ],
 "metadata": {
  "kernelspec": {
   "display_name": "Python 3",
   "language": "python",
   "name": "python3"
  },
  "language_info": {
   "codemirror_mode": {
    "name": "ipython",
    "version": 3
   },
   "file_extension": ".py",
   "mimetype": "text/x-python",
   "name": "python",
   "nbconvert_exporter": "python",
   "pygments_lexer": "ipython3",
   "version": "3.7.3"
  }
 },
 "nbformat": 4,
 "nbformat_minor": 2
}
