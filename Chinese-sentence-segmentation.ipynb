{
 "cells": [
  {
   "cell_type": "code",
   "execution_count": 3,
   "metadata": {},
   "outputs": [],
   "source": [
    "#coding=utf-8\n",
    "import jieba. analyse\n",
    "stopwords=[]\n",
    "for word in open('stopwords_cn.txt','r'):\n",
    " stopwords.append(word.strip())\n",
    "article=open('sample.txt','r').read()\n",
    "words=jieba.cut(article,cut_all=False)\n",
    "stayed_line=\"\"\n",
    "for word in words:\n",
    " if word.encode(\"utf-8\")not in stopwords:\n",
    "  stayed_line+=word+\" \"\n",
    "\n",
    "w=open('sample-2.txt','w')\n",
    "w.write(stayed_line.encode('utf-8'))"
   ]
  },
  {
   "cell_type": "code",
   "execution_count": null,
   "metadata": {},
   "outputs": [],
   "source": []
  }
 ],
 "metadata": {
  "kernelspec": {
   "display_name": "Python 3",
   "language": "python",
   "name": "python3"
  },
  "language_info": {
   "codemirror_mode": {
    "name": "ipython",
    "version": 3
   },
   "file_extension": ".py",
   "mimetype": "text/x-python",
   "name": "python",
   "nbconvert_exporter": "python",
   "pygments_lexer": "ipython3",
   "version": "3.7.3"
  }
 },
 "nbformat": 4,
 "nbformat_minor": 2
}
